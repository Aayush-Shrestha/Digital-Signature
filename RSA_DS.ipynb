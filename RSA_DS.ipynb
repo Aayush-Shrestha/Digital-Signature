{
 "cells": [
  {
   "cell_type": "code",
   "execution_count": null,
   "id": "dcd02db1-e8f9-4382-8a1f-9105ea84089e",
   "metadata": {},
   "outputs": [],
   "source": [
    "import random\n",
    "from math import gcd\n",
    "from hashlib import sha256"
   ]
  },
  {
   "cell_type": "code",
   "execution_count": null,
   "id": "1e0f58c7-c063-485f-88a3-8cf42d28ef91",
   "metadata": {},
   "outputs": [],
   "source": [
    "def modinv(a, m):\n",
    "    m0 = m\n",
    "    x0, x1 = m, 0, 1\n",
    "    while a > 1:\n",
    "        q = a // m\n",
    "        m, a = a % m, m\n",
    "        x0, x1 = x1 - q * x0, x0\n",
    "    if x1 < 0:\n",
    "        x1 += m0\n",
    "    return x1"
   ]
  },
  {
   "cell_type": "code",
   "execution_count": null,
   "id": "80bb183f-5842-4ee4-80f9-e3713c11b9d7",
   "metadata": {},
   "outputs": [],
   "source": [
    "def generate_keys():\n",
    "    p = 11\n",
    "    q = 13\n",
    "    n = p * q\n",
    "    phi = (p - 1) * (q - 1)\n",
    "    e = 7\n",
    "    d = modinv(e, phi)\n",
    "    return ((e, n), (d, n))"
   ]
  },
  {
   "cell_type": "code",
   "execution_count": null,
   "id": "93ca9be7-408e-48dc-853c-b1001b19d280",
   "metadata": {},
   "outputs": [],
   "source": [
    "def sign_message(message, private_key):\n",
    "    d, n = private_key\n",
    "    message_hash = int.from_bytes(sha256(message.encode()).digest(), byteorder='big') % n\n",
    "    signature = pow(message_hash, d, n)\n",
    "    return signature"
   ]
  },
  {
   "cell_type": "code",
   "execution_count": null,
   "id": "a9d3a89b-1567-42b1-b6f6-6e5c6c754378",
   "metadata": {},
   "outputs": [],
   "source": [
    "def verify_signature(message, signature, public_key):\n",
    "    e, n = public_key\n",
    "    message_hash = int.from_bytes(sha256(message.encode()).digest(), byteorder='big') % n\n",
    "    hash_from_signature = pow(signature, e, n)\n",
    "    return message_hash == hash_from_signature"
   ]
  },
  {
   "cell_type": "code",
   "execution_count": null,
   "id": "a2880162-7215-49a5-bf4a-16b61ae79969",
   "metadata": {},
   "outputs": [],
   "source": [
    "public_key, private_key = generate_keys()\n",
    "print(f\"Public Key: ({public_key[0]}, {public_key[1]})\")\n",
    "print(f\"Private Key: ({private_key[0]}, {private_key[1]})\")\n",
    "\n",
    "message = \"hi\"\n",
    "\n",
    "signature = sign_message(message, private_key)\n",
    "print(f\"Signature: {signature}\")\n",
    "\n",
    "is_valid = verify_signature(message, signature, public_key)\n",
    "print(f\"Signature valid: {is_valid}\")"
   ]
  }
 ],
 "metadata": {
  "kernelspec": {
   "display_name": "Python 3 (ipykernel)",
   "language": "python",
   "name": "python3"
  },
  "language_info": {
   "codemirror_mode": {
    "name": "ipython",
    "version": 3
   },
   "file_extension": ".py",
   "mimetype": "text/x-python",
   "name": "python",
   "nbconvert_exporter": "python",
   "pygments_lexer": "ipython3",
   "version": "3.8.10"
  }
 },
 "nbformat": 4,
 "nbformat_minor": 5
}
