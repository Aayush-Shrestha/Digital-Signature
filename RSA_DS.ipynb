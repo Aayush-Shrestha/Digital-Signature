{
 "cells": [
  {
   "cell_type": "code",
   "execution_count": 1,
   "id": "dcd02db1-e8f9-4382-8a1f-9105ea84089e",
   "metadata": {},
   "outputs": [],
   "source": [
    "import random\n",
    "from math import gcd\n",
    "from hashlib import sha256"
   ]
  },
  {
   "cell_type": "code",
   "execution_count": 2,
   "id": "1e0f58c7-c063-485f-88a3-8cf42d28ef91",
   "metadata": {},
   "outputs": [],
   "source": [
    "def modinv(a, m):\n",
    "    m0 = m\n",
    "    x0, x1 = 0, 1\n",
    "    while a > 1:\n",
    "        q = a // m\n",
    "        m, a = a % m, m\n",
    "        x0, x1 = x1 - q * x0, x0\n",
    "    if x1 < 0:\n",
    "        x1 += m0\n",
    "    return x1"
   ]
  },
  {
   "cell_type": "code",
   "execution_count": 3,
   "id": "80bb183f-5842-4ee4-80f9-e3713c11b9d7",
   "metadata": {},
   "outputs": [],
   "source": [
    "def generate_keys():\n",
    "    p = 11\n",
    "    q = 13\n",
    "    n = p * q\n",
    "    phi = (p - 1) * (q - 1)\n",
    "    e = 7\n",
    "    d = modinv(e, phi)\n",
    "    return ((e, n), (d, n))"
   ]
  },
  {
   "cell_type": "code",
   "execution_count": 4,
   "id": "93ca9be7-408e-48dc-853c-b1001b19d280",
   "metadata": {},
   "outputs": [],
   "source": [
    "def sign_message(message, private_key):\n",
    "    d, n = private_key\n",
    "    message_hash = int.from_bytes(sha256(message.encode()).digest(), byteorder='big') % n\n",
    "    signature = pow(message_hash, d, n)\n",
    "    return signature"
   ]
  },
  {
   "cell_type": "code",
   "execution_count": 5,
   "id": "a9d3a89b-1567-42b1-b6f6-6e5c6c754378",
   "metadata": {},
   "outputs": [],
   "source": [
    "def verify_signature(message, signature, public_key):\n",
    "    e, n = public_key\n",
    "    message_hash = int.from_bytes(sha256(message.encode()).digest(), byteorder='big') % n\n",
    "    hash_from_signature = pow(signature, e, n)\n",
    "    return message_hash == hash_from_signature"
   ]
  },
  {
   "cell_type": "code",
   "execution_count": 6,
   "id": "292b1813-d891-41cc-880a-55c4d6cd229b",
   "metadata": {},
   "outputs": [],
   "source": [
    "def sender(private_key):\n",
    "    text = input(\"input your message :\")\n",
    "    sign = sign_message(text, private_key)\n",
    "    return  text, sign"
   ]
  },
  {
   "cell_type": "code",
   "execution_count": 7,
   "id": "e6784da4-db74-4d03-b42d-8bcb7da4acdc",
   "metadata": {},
   "outputs": [],
   "source": [
    "def receiver(text,sign, public_key):\n",
    "    if verify_signature(text, sign, public_key):\n",
    "        print(f\"Message is : {text}\")\n",
    "    else:\n",
    "        print(\"Corrupt Message\")"
   ]
  },
  {
   "cell_type": "code",
   "execution_count": 8,
   "id": "a2880162-7215-49a5-bf4a-16b61ae79969",
   "metadata": {},
   "outputs": [
    {
     "name": "stdin",
     "output_type": "stream",
     "text": [
      "input your message : I am Aayush\n"
     ]
    }
   ],
   "source": [
    "public_key, private_key = generate_keys()\n",
    "text,sign = sender(private_key)"
   ]
  },
  {
   "cell_type": "code",
   "execution_count": 9,
   "id": "90db8ea4-58c5-4be9-b0f9-02bf6fec9163",
   "metadata": {},
   "outputs": [
    {
     "name": "stdout",
     "output_type": "stream",
     "text": [
      "Case 1: no error\n",
      "Text is  I am Aayush  and sign is  46\n",
      "Message is : I am Aayush\n"
     ]
    }
   ],
   "source": [
    "print(\"Case 1: no error\")\n",
    "print(\"Text is \", text,\" and sign is \",sign)\n",
    "receiver(text,sign, public_key)"
   ]
  },
  {
   "cell_type": "code",
   "execution_count": 10,
   "id": "78cd4c3e-c1eb-466f-87b0-e87c557c5946",
   "metadata": {},
   "outputs": [
    {
     "name": "stdout",
     "output_type": "stream",
     "text": [
      "Case 2: error in message\n",
      "Text is  abc  and sign is  46\n",
      "Corrupt Message\n"
     ]
    }
   ],
   "source": [
    "print(\"Case 2: error in message\")\n",
    "text1 = \"abc\"\n",
    "print(\"Text is \", text1,\" and sign is \",sign)\n",
    "receiver(text1,sign, public_key)"
   ]
  },
  {
   "cell_type": "code",
   "execution_count": 11,
   "id": "5eab1cc6-234d-437a-8eac-d9ad538f9e88",
   "metadata": {},
   "outputs": [
    {
     "name": "stdout",
     "output_type": "stream",
     "text": [
      "Case 3: error in signature\n",
      "Text is  I am Aayush  and sign is  47\n",
      "Message is : I am Aayush\n"
     ]
    }
   ],
   "source": [
    "print(\"Case 3: error in signature\")\n",
    "sign1 = sign + 1\n",
    "print(\"Text is \", text,\" and sign is \",sign1)\n",
    "receiver(text,sign, public_key)"
   ]
  }
 ],
 "metadata": {
  "kernelspec": {
   "display_name": "Python 3 (ipykernel)",
   "language": "python",
   "name": "python3"
  },
  "language_info": {
   "codemirror_mode": {
    "name": "ipython",
    "version": 3
   },
   "file_extension": ".py",
   "mimetype": "text/x-python",
   "name": "python",
   "nbconvert_exporter": "python",
   "pygments_lexer": "ipython3",
   "version": "3.8.10"
  }
 },
 "nbformat": 4,
 "nbformat_minor": 5
}
